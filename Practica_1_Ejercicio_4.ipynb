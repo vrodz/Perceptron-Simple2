{
  "nbformat": 4,
  "nbformat_minor": 0,
  "metadata": {
    "colab": {
      "provenance": [],
      "include_colab_link": true
    },
    "kernelspec": {
      "name": "python3",
      "display_name": "Python 3"
    },
    "language_info": {
      "name": "python"
    }
  },
  "cells": [
    {
      "cell_type": "markdown",
      "metadata": {
        "id": "view-in-github",
        "colab_type": "text"
      },
      "source": [
        "<a href=\"https://colab.research.google.com/github/vrodz/Perceptron-Simple2/blob/main/Practica_1_Ejercicio_4.ipynb\" target=\"_parent\"><img src=\"https://colab.research.google.com/assets/colab-badge.svg\" alt=\"Open In Colab\"/></a>"
      ]
    },
    {
      "cell_type": "code",
      "execution_count": null,
      "metadata": {
        "id": "XNjlHmBzNaD6"
      },
      "outputs": [],
      "source": [
        "import numpy as np\n",
        "import matplotlib.pyplot as plt\n",
        "from sklearn.preprocessing import StandardScaler, OneHotEncoder\n",
        "from sklearn.model_selection import train_test_split\n",
        "from sklearn.model_selection import LeavePOut\n",
        "from sklearn.metrics import accuracy_score\n",
        "from sklearn.preprocessing import StandardScaler"
      ]
    },
    {
      "cell_type": "code",
      "source": [
        "import numpy as np\n",
        "import matplotlib.pyplot as plt\n",
        "\n",
        "class PerceptronMulticapa:\n",
        "    def __init__(self, nEntradas, capasOcultas, nSalidas, tazaAprendizaje, epochs):\n",
        "        self.nEntradas = nEntradas\n",
        "        self.capasOcultas = capasOcultas\n",
        "        self.nSalidas = nSalidas\n",
        "        self.tazaAprendizaje = tazaAprendizaje\n",
        "        self.epochs = epochs\n",
        "        self.pesos = [np.random.rand(capasOcultas[0], nEntradas)]\n",
        "        self.sesgos = [np.zeros(capasOcultas[0])]\n",
        "\n",
        "        for i in range(1, len(capasOcultas)):\n",
        "            self.pesos.append(np.random.rand(capasOcultas[i], capasOcultas[i-1]))\n",
        "            self.sesgos.append(np.zeros(capasOcultas[i]))\n",
        "\n",
        "        self.pesos.append(np.random.rand(nSalidas, capasOcultas[-1]))\n",
        "        self.sesgos.append(np.zeros(nSalidas))\n",
        "\n",
        "    def sigmoid(self, x):\n",
        "        return 1/(1+np.exp(-x))\n",
        "\n",
        "    def sigmoidDerivada(self, x):\n",
        "        return x*(1-x)\n",
        "\n",
        "    def relu(self, x):\n",
        "        return np.maximum(0, x)\n",
        "\n",
        "    def reluDerivada(self, x):\n",
        "        return np.where(x>0, 1, 0)\n",
        "\n",
        "    def softmax(self, x):\n",
        "        e_x = np.exp(x - np.max(x))\n",
        "        return e_x/e_x.sum(axis=0)\n",
        "\n",
        "    def softmaxDerivada(self, s):\n",
        "        return s*(1 - s)\n",
        "\n",
        "    def feedForward(self, entradas):\n",
        "        capasSalida = [entradas]\n",
        "        for i in range(len(self.pesos)):\n",
        "            capaEntrada = np.dot(self.pesos[i], capasSalida[-1]) + self.sesgos[i]\n",
        "            if i == len(self.pesos) - 1:\n",
        "                capaSalida = self.softmax(capaEntrada)\n",
        "            else:\n",
        "                capaSalida = self.relu(capaEntrada)\n",
        "            capasSalida.append(capaSalida)\n",
        "        return capasSalida\n",
        "\n",
        "    def entranamiento(self, datosEntrenamiento, capas):\n",
        "        for epoch in range(self.epochs):\n",
        "            for entradas, capa in zip(datosEntrenamiento, capas):\n",
        "                capasSalida = self.feedForward(entradas)\n",
        "                predicciones = capasSalida[-1]\n",
        "                errores = [-capa * np.log(predicciones)]\n",
        "                deltas = [errores[0] * self.softmaxDerivada(predicciones)]\n",
        "                for i in range(len(self.pesos) - 2, -1, -1):\n",
        "                    error = deltas[0].dot(self.pesos[i + 1])\n",
        "                    errores.insert(0, error)\n",
        "                    deltas.insert(0, errores[0] * self.reluDerivada(capasSalida[i + 1]))\n",
        "                for i in range(len(self.pesos)):\n",
        "                    self.pesos[i] += self.tazaAprendizaje * np.outer(deltas[i], capasSalida[i])\n",
        "                    self.sesgos[i] += self.tazaAprendizaje * deltas[i]\n",
        "\n",
        "    def prediccion(self, entradas):\n",
        "        capasSalida = self.feedForward(entradas)\n",
        "        predicciones = capasSalida[-1]\n",
        "        return np.where(predicciones == np.max(predicciones), 1, -1)\n"
      ],
      "metadata": {
        "id": "Z2DBbt8NQ8uz"
      },
      "execution_count": null,
      "outputs": []
    },
    {
      "cell_type": "code",
      "source": [
        "class Separador:\n",
        "    def __init__(self, nEntradas, capasOcultas, nSalidas, tazaAprendizaje, epochs):\n",
        "        self.nEntradas = nEntradas\n",
        "        self.capasOcultas = capasOcultas\n",
        "        self.nSalidas = nSalidas\n",
        "        self.tazaAprendizaje = tazaAprendizaje\n",
        "        self.epochs = epochs\n",
        "        self.datosEntrenamiento = None\n",
        "        self.capasEntrenamiento = None\n",
        "        self.datosPrueba = None\n",
        "        self.capasPrueba = None\n",
        "        self.archivoDatos = 'irisbin.csv'\n",
        "        self.Perceptron = PerceptronMulticapa(self.nEntradas, self.capasOcultas, self.nSalidas, self.tazaAprendizaje, self.epochs);\n",
        "\n",
        "    def leerArchivoDatos(self):\n",
        "        datos = []\n",
        "        capas = []\n",
        "        archivo = open(self.archivoDatos, mode='r')\n",
        "        lineas = archivo.readlines()\n",
        "        for linea in lineas:\n",
        "            cadenas = linea[:len(linea)-1].split(',')\n",
        "            x1 = float(cadenas[0])\n",
        "            x2 = float(cadenas[1])\n",
        "            x3 = float(cadenas[2])\n",
        "            x4 = float(cadenas[3])\n",
        "            y1 = int(cadenas[4])\n",
        "            y2 = int(cadenas[5])\n",
        "            y3 = int(cadenas[6])\n",
        "            datos.append([x1, x2, x3, x4])\n",
        "            capas.append([y1, y2, y3])\n",
        "        archivo.close()\n",
        "        self.datosEntrenamiento, self.capasEntrenamiento, self.datosPrueba, self.capasPrueba = self.PerturbacionCapas(datos, capas)\n",
        "\n",
        "    def PerturbacionCapas(self, datos, capas):\n",
        "        x1 = np.array(datos)\n",
        "        x2 = np.array(capas)\n",
        "        escalar = StandardScaler()\n",
        "        x1 = escalar.fit_transform(x1)\n",
        "        porcentaje = 0.8\n",
        "        nDatos = int(len(datos) * porcentaje)\n",
        "        datosEntrenamiento = np.array(x1[:nDatos])\n",
        "        datosPrueba = np.array(x1[nDatos:])\n",
        "        capasEntrenamiento = np.array(x2[:nDatos])\n",
        "        capasPrueba = np.array(x2[nDatos:])\n",
        "        return datosEntrenamiento, capasEntrenamiento, datosPrueba, capasPrueba\n",
        "\n",
        "    def Entrenamiento(self):\n",
        "        self.Perceptron.entranamiento(self.datosEntrenamiento, self.capasEntrenamiento)\n",
        "\n",
        "    def TipoFlor(self, prediccion, real):\n",
        "        if(prediccion[0] ==  real[0] and prediccion[1] ==  real[1] and prediccion[2] ==  real[2]):\n",
        "            if(prediccion[0] == -1 and prediccion[1] == -1 and prediccion[2] == 1):\n",
        "                return \"Setosa\"\n",
        "            elif(prediccion[0] == -1 and prediccion[1] == 1 and prediccion[2] == -1):\n",
        "                return \"Versicolor\"\n",
        "            elif(prediccion[0] == 1 and prediccion[1] == -1 and prediccion[2] == -1):\n",
        "                return \"Virginica\"\n",
        "        else:\n",
        "            return \"None\"\n",
        "\n",
        "    def leaveOneOut(self, pe=1):\n",
        "        x1, x2 = self.datosEntrenamiento, self.capasEntrenamiento\n",
        "        aciertos = []\n",
        "        lpo = LeavePOut(pe)\n",
        "        for indicesEntrenamiento, indicesPrueba in lpo.split(x1):\n",
        "            x1Entrenamiento, x1Prueba = x1[indicesEntrenamiento], x1[indicesPrueba]\n",
        "            x2Entrenamiento, x2Prueba = x2[indicesEntrenamiento], x2[indicesPrueba]\n",
        "            modelo = PerceptronMulticapa(self.nEntradas, self.capasOcultas, self.nSalidas, self.tazaAprendizaje, self.epochs);\n",
        "            modelo.entranamiento(x1Entrenamiento, x2Entrenamiento)\n",
        "            predicciones = []\n",
        "            for entradas in x1Prueba:\n",
        "                prediccion = modelo.prediccion(entradas)\n",
        "                predicciones.append(prediccion)\n",
        "            precision = accuracy_score(x2Prueba, predicciones)\n",
        "            aciertos.append(precision)\n",
        "        precisionPromedio = sum(aciertos)/len(aciertos)\n",
        "        desviacionEstandar = np.std(aciertos)\n",
        "        porcentajeErrorEsperado = (1 - precisionPromedio) * 100\n",
        "        print(f\"Precision prueba: {precisionPromedio * 100:.2f}%\")\n",
        "        print(f\"Desviacion Estándar: {desviacionEstandar * 100:.2f}%\")\n",
        "        print(f\"Error: {porcentajeErrorEsperado}%\")\n",
        "\n",
        "    def ProbarFlores(self):\n",
        "        prediccionesCorrectas = 0\n",
        "        prediccionesTotal = len(self.datosPrueba)\n",
        "        prediccionCapas = []\n",
        "        coloresFlores = ['pink', 'purple', 'black']\n",
        "        tiposFlores = ['Iris-setosa', 'Iris-versicolor', 'Iris-virginica']\n",
        "        marcadores = ['x', 'o', '+']\n",
        "        for entradas, capa in zip(self.datosPrueba, self.capasPrueba):\n",
        "            prediccion = self.Perceptron.prediccion(entradas)\n",
        "            prediccionCapas.append(prediccion)\n",
        "            if self.TipoFlor(prediccion, capa) != \"None\":\n",
        "                plt.scatter(entradas[0], entradas[1], color=coloresFlores[np.argmax(capa)])\n",
        "                prediccionesCorrectas += 1\n",
        "        precision = prediccionesCorrectas / prediccionesTotal\n",
        "        self.leaveOneOut()\n",
        "        #self.leaveOneOut(2)\n",
        "        for i, capa in enumerate(tiposFlores):\n",
        "            plt.scatter([], [], color=coloresFlores[i], label=capa, marker=marcadores[i], s=25)\n",
        "        plt.legend()\n",
        "        plt.xlabel('PC2')\n",
        "        plt.ylabel('PC1')\n",
        "        plt.title('Flores Iris')\n",
        "        plt.show()"
      ],
      "metadata": {
        "id": "TZjzEPOAQwEE"
      },
      "execution_count": null,
      "outputs": []
    },
    {
      "cell_type": "code",
      "source": [
        "floresIris = Separador(nEntradas = 4, capasOcultas = [8], nSalidas = 3, tazaAprendizaje = 0.1, epochs = 100)\n",
        "floresIris.leerArchivoDatos()\n",
        "floresIris.Entrenamiento()\n",
        "floresIris.ProbarFlores()"
      ],
      "metadata": {
        "colab": {
          "base_uri": "https://localhost:8080/",
          "height": 524
        },
        "id": "i9M0gzIIqO8f",
        "outputId": "79c1d5f9-ff12-4d31-9855-9f7aac3ec9fd"
      },
      "execution_count": null,
      "outputs": [
        {
          "output_type": "stream",
          "name": "stdout",
          "text": [
            "Precision prueba: 83.33%\n",
            "Desviacion Estándar: 37.27%\n",
            "Error: 16.666666666666664%\n"
          ]
        },
        {
          "output_type": "display_data",
          "data": {
            "text/plain": [
              "<Figure size 640x480 with 1 Axes>"
            ],
            "image/png": "[encoded data removed]"
          },
          "metadata": {}
        }
      ]
    }
  ]
}